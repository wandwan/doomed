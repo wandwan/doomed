{
 "cells": [
  {
   "cell_type": "code",
   "execution_count": 3,
   "metadata": {},
   "outputs": [],
   "source": [
    "import pandas as pd\n",
    "import numpy as np\n",
    "import matplotlib.pyplot as plt\n",
    "\n",
    "cols = ['AH', 'CC', 'GI', 'BQ', 'GH', 'DE', 'BR', 'EP', 'EL', 'CL', 'CD', 'AM', 'EU', 'FI', 'EE', 'CU', 'DU', 'GL', 'DL', 'DV']\n",
    "\n",
    "df = pd.read_csv(\"../data/train.csv\")\n",
    "df.columns = df.columns.str.strip() # trim off whitespace from column names\n",
    "\n",
    "\n",
    "df = df[cols + ['Class'] + ['Id']]\n",
    "\n",
    "class1 = df[df['Class'] == 1]\n",
    "class2 = df[df['Class'] == 0]"
   ]
  },
  {
   "cell_type": "code",
   "execution_count": null,
   "metadata": {},
   "outputs": [],
   "source": [
    "\n",
    "for col in cols:\n",
    "    col_class1 = class1[col]\n",
    "    col_class2 = class2[col]\n",
    "    col_class1_mean = col_class1.mean()\n",
    "    col_class1_std = col_class1.std()\n",
    "    col_class2_mean = col_class2.mean()\n",
    "    col_class2_std = col_class2.std()\n",
    "    col_class1_dropped = col_class1[(col_class1 < col_class1_mean - 2 * col_class1_std) | (col_class1 > col_class1_mean + 2 * col_class1_std)]\n",
    "    col_class2_dropped = col_class2[(col_class2 < col_class2_mean - 2 * col_class2_std) | (col_class2 > col_class2_mean + 2 * col_class2_std)]\n",
    "    col_class1 = col_class1[(col_class1 > col_class1_mean - 2 * col_class1_std) & (col_class1 < col_class1_mean + 2 * col_class1_std)]\n",
    "    col_class2 = col_class2[(col_class2 > col_class2_mean - 2 * col_class2_std) & (col_class2 < col_class2_mean + 2 * col_class2_std)]\n",
    "    plt.hist(col_class1, bins=300, color='blue', alpha=.6)\n",
    "    plt.hist(col_class2, bins=300, color='red', alpha=0.3)\n",
    "    plt.title(col)\n",
    "    plt.show()\n",
    "    print(\"column:  \" + col)\n",
    "    print(\"class 1 dropped: \" + str(col_class1_dropped))\n",
    "    print(\"class 0 dropped: \" + str(col_class2_dropped))\n",
    "    print()"
   ]
  },
  {
   "cell_type": "code",
   "execution_count": null,
   "metadata": {},
   "outputs": [],
   "source": []
  }
 ],
 "metadata": {
  "kernelspec": {
   "display_name": "ICR",
   "language": "python",
   "name": "python3"
  },
  "language_info": {
   "codemirror_mode": {
    "name": "ipython",
    "version": 3
   },
   "file_extension": ".py",
   "mimetype": "text/x-python",
   "name": "python",
   "nbconvert_exporter": "python",
   "pygments_lexer": "ipython3",
   "version": "3.10.7"
  },
  "orig_nbformat": 4
 },
 "nbformat": 4,
 "nbformat_minor": 2
}
