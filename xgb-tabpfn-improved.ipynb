{
 "cells": [
  {
   "cell_type": "code",
   "execution_count": 1,
   "id": "6494fcc8",
   "metadata": {
    "execution": {
     "iopub.execute_input": "2023-07-12T19:24:05.995226Z",
     "iopub.status.busy": "2023-07-12T19:24:05.994726Z",
     "iopub.status.idle": "2023-07-12T19:24:26.214034Z",
     "shell.execute_reply": "2023-07-12T19:24:26.212629Z"
    },
    "papermill": {
     "duration": 20.23309,
     "end_time": "2023-07-12T19:24:26.217092",
     "exception": false,
     "start_time": "2023-07-12T19:24:05.984002",
     "status": "completed"
    },
    "tags": []
   },
   "outputs": [
    {
     "name": "stdout",
     "output_type": "stream",
     "text": [
      "Looking in links: file:///kaggle/input/pip-packages-icr/pip-packages\r\n",
      "Processing /kaggle/input/pip-packages-icr/pip-packages/tabpfn-0.1.9-py3-none-any.whl\r\n",
      "Requirement already satisfied: numpy>=1.21.2 in /opt/conda/lib/python3.10/site-packages (from tabpfn) (1.23.5)\r\n",
      "Requirement already satisfied: pyyaml>=5.4.1 in /opt/conda/lib/python3.10/site-packages (from tabpfn) (6.0)\r\n",
      "Requirement already satisfied: requests>=2.23.0 in /opt/conda/lib/python3.10/site-packages (from tabpfn) (2.31.0)\r\n",
      "Requirement already satisfied: scikit-learn>=0.24.2 in /opt/conda/lib/python3.10/site-packages (from tabpfn) (1.2.2)\r\n",
      "Requirement already satisfied: torch>=1.9.0 in /opt/conda/lib/python3.10/site-packages (from tabpfn) (2.0.0+cpu)\r\n",
      "Requirement already satisfied: charset-normalizer<4,>=2 in /opt/conda/lib/python3.10/site-packages (from requests>=2.23.0->tabpfn) (3.1.0)\r\n",
      "Requirement already satisfied: idna<4,>=2.5 in /opt/conda/lib/python3.10/site-packages (from requests>=2.23.0->tabpfn) (3.4)\r\n",
      "Requirement already satisfied: urllib3<3,>=1.21.1 in /opt/conda/lib/python3.10/site-packages (from requests>=2.23.0->tabpfn) (1.26.15)\r\n",
      "Requirement already satisfied: certifi>=2017.4.17 in /opt/conda/lib/python3.10/site-packages (from requests>=2.23.0->tabpfn) (2023.5.7)\r\n",
      "Requirement already satisfied: scipy>=1.3.2 in /opt/conda/lib/python3.10/site-packages (from scikit-learn>=0.24.2->tabpfn) (1.11.1)\r\n",
      "Requirement already satisfied: joblib>=1.1.1 in /opt/conda/lib/python3.10/site-packages (from scikit-learn>=0.24.2->tabpfn) (1.2.0)\r\n",
      "Requirement already satisfied: threadpoolctl>=2.0.0 in /opt/conda/lib/python3.10/site-packages (from scikit-learn>=0.24.2->tabpfn) (3.1.0)\r\n",
      "Requirement already satisfied: filelock in /opt/conda/lib/python3.10/site-packages (from torch>=1.9.0->tabpfn) (3.12.2)\r\n",
      "Requirement already satisfied: typing-extensions in /opt/conda/lib/python3.10/site-packages (from torch>=1.9.0->tabpfn) (4.6.3)\r\n",
      "Requirement already satisfied: sympy in /opt/conda/lib/python3.10/site-packages (from torch>=1.9.0->tabpfn) (1.12)\r\n",
      "Requirement already satisfied: networkx in /opt/conda/lib/python3.10/site-packages (from torch>=1.9.0->tabpfn) (3.1)\r\n",
      "Requirement already satisfied: jinja2 in /opt/conda/lib/python3.10/site-packages (from torch>=1.9.0->tabpfn) (3.1.2)\r\n",
      "Requirement already satisfied: MarkupSafe>=2.0 in /opt/conda/lib/python3.10/site-packages (from jinja2->torch>=1.9.0->tabpfn) (2.1.3)\r\n",
      "Requirement already satisfied: mpmath>=0.19 in /opt/conda/lib/python3.10/site-packages (from sympy->torch>=1.9.0->tabpfn) (1.3.0)\r\n",
      "Installing collected packages: tabpfn\r\n",
      "Successfully installed tabpfn-0.1.9\r\n"
     ]
    }
   ],
   "source": [
    "!pip install tabpfn --no-index --find-links=file:///kaggle/input/pip-packages-icr/pip-packages\n",
    "!mkdir -p /opt/conda/lib/python3.10/site-packages/tabpfn/models_diff\n",
    "!cp /kaggle/input/pip-packages-icr/pip-packages/prior_diff_real_checkpoint_n_0_epoch_100.cpkt /opt/conda/lib/python3.10/site-packages/tabpfn/models_diff/"
   ]
  },
  {
   "cell_type": "code",
   "execution_count": 2,
   "id": "0db25e70",
   "metadata": {
    "_cell_guid": "b1076dfc-b9ad-4769-8c92-a6c4dae69d19",
    "_uuid": "8f2839f25d086af736a60e9eeb907d3b93b6e0e5",
    "execution": {
     "iopub.execute_input": "2023-07-12T19:24:26.239376Z",
     "iopub.status.busy": "2023-07-12T19:24:26.238650Z",
     "iopub.status.idle": "2023-07-12T19:24:34.346977Z",
     "shell.execute_reply": "2023-07-12T19:24:34.345600Z"
    },
    "papermill": {
     "duration": 8.124265,
     "end_time": "2023-07-12T19:24:34.350712",
     "exception": false,
     "start_time": "2023-07-12T19:24:26.226447",
     "status": "completed"
    },
    "tags": []
   },
   "outputs": [
    {
     "name": "stderr",
     "output_type": "stream",
     "text": [
      "/opt/conda/lib/python3.10/site-packages/scipy/__init__.py:146: UserWarning: A NumPy version >=1.16.5 and <1.23.0 is required for this version of SciPy (detected version 1.23.5\n",
      "  warnings.warn(f\"A NumPy version >={np_minversion} and <{np_maxversion}\"\n"
     ]
    }
   ],
   "source": [
    "import numpy as np\n",
    "import pandas as pd\n",
    "from sklearn.preprocessing import LabelEncoder,normalize\n",
    "from sklearn.ensemble import GradientBoostingClassifier,RandomForestClassifier\n",
    "from sklearn.metrics import accuracy_score\n",
    "from sklearn.impute import SimpleImputer\n",
    "import imblearn\n",
    "from imblearn.over_sampling import RandomOverSampler\n",
    "from imblearn.under_sampling import RandomUnderSampler\n",
    "import xgboost\n",
    "import inspect\n",
    "from collections import defaultdict\n",
    "from tabpfn import TabPFNClassifier\n",
    "import lightgbm as lgb\n",
    "import warnings\n",
    "warnings.filterwarnings('ignore')"
   ]
  },
  {
   "cell_type": "code",
   "execution_count": 3,
   "id": "1b44fd8f",
   "metadata": {
    "execution": {
     "iopub.execute_input": "2023-07-12T19:24:34.371525Z",
     "iopub.status.busy": "2023-07-12T19:24:34.371022Z",
     "iopub.status.idle": "2023-07-12T19:24:34.437769Z",
     "shell.execute_reply": "2023-07-12T19:24:34.436316Z"
    },
    "papermill": {
     "duration": 0.081343,
     "end_time": "2023-07-12T19:24:34.441128",
     "exception": false,
     "start_time": "2023-07-12T19:24:34.359785",
     "status": "completed"
    },
    "tags": []
   },
   "outputs": [],
   "source": [
    "train = pd.read_csv('/kaggle/input/icr-identify-age-related-conditions/train.csv')\n",
    "test = pd.read_csv('/kaggle/input/icr-identify-age-related-conditions/test.csv')\n",
    "sample = pd.read_csv('/kaggle/input/icr-identify-age-related-conditions/sample_submission.csv')\n",
    "greeks = pd.read_csv('/kaggle/input/icr-identify-age-related-conditions/greeks.csv')"
   ]
  },
  {
   "cell_type": "code",
   "execution_count": 4,
   "id": "e06db201",
   "metadata": {
    "execution": {
     "iopub.execute_input": "2023-07-12T19:24:34.463066Z",
     "iopub.status.busy": "2023-07-12T19:24:34.461693Z",
     "iopub.status.idle": "2023-07-12T19:24:34.478063Z",
     "shell.execute_reply": "2023-07-12T19:24:34.476607Z"
    },
    "papermill": {
     "duration": 0.030094,
     "end_time": "2023-07-12T19:24:34.480892",
     "exception": false,
     "start_time": "2023-07-12T19:24:34.450798",
     "status": "completed"
    },
    "tags": []
   },
   "outputs": [],
   "source": [
    "first_category = train.EJ.unique()[0]\n",
    "train.EJ = train.EJ.eq(first_category).astype('int')\n",
    "test.EJ = test.EJ.eq(first_category).astype('int')"
   ]
  },
  {
   "cell_type": "code",
   "execution_count": 5,
   "id": "b2c5b564",
   "metadata": {
    "execution": {
     "iopub.execute_input": "2023-07-12T19:24:34.502826Z",
     "iopub.status.busy": "2023-07-12T19:24:34.502411Z",
     "iopub.status.idle": "2023-07-12T19:24:34.509163Z",
     "shell.execute_reply": "2023-07-12T19:24:34.507829Z"
    },
    "papermill": {
     "duration": 0.019551,
     "end_time": "2023-07-12T19:24:34.511503",
     "exception": false,
     "start_time": "2023-07-12T19:24:34.491952",
     "status": "completed"
    },
    "tags": []
   },
   "outputs": [],
   "source": [
    "def random_under_sampler(df):\n",
    "    neg, pos = np.bincount(df['Class'])\n",
    "    one_df = df.loc[df['Class'] == 1] \n",
    "    zero_df = df.loc[df['Class'] == 0]\n",
    "    zero_df = zero_df.sample(n=pos)\n",
    "    undersampled_df = pd.concat([zero_df, one_df])\n",
    "    return undersampled_df.sample(frac = 1)"
   ]
  },
  {
   "cell_type": "code",
   "execution_count": 6,
   "id": "5207979c",
   "metadata": {
    "execution": {
     "iopub.execute_input": "2023-07-12T19:24:34.532192Z",
     "iopub.status.busy": "2023-07-12T19:24:34.531338Z",
     "iopub.status.idle": "2023-07-12T19:24:34.546975Z",
     "shell.execute_reply": "2023-07-12T19:24:34.545676Z"
    },
    "papermill": {
     "duration": 0.029238,
     "end_time": "2023-07-12T19:24:34.549746",
     "exception": false,
     "start_time": "2023-07-12T19:24:34.520508",
     "status": "completed"
    },
    "tags": []
   },
   "outputs": [],
   "source": [
    "train_good = random_under_sampler(train)"
   ]
  },
  {
   "cell_type": "code",
   "execution_count": 7,
   "id": "f79a33bf",
   "metadata": {
    "execution": {
     "iopub.execute_input": "2023-07-12T19:24:34.570465Z",
     "iopub.status.busy": "2023-07-12T19:24:34.569900Z",
     "iopub.status.idle": "2023-07-12T19:24:34.579382Z",
     "shell.execute_reply": "2023-07-12T19:24:34.578113Z"
    },
    "papermill": {
     "duration": 0.02306,
     "end_time": "2023-07-12T19:24:34.581766",
     "exception": false,
     "start_time": "2023-07-12T19:24:34.558706",
     "status": "completed"
    },
    "tags": []
   },
   "outputs": [
    {
     "data": {
      "text/plain": [
       "(216, 58)"
      ]
     },
     "execution_count": 7,
     "metadata": {},
     "output_type": "execute_result"
    }
   ],
   "source": [
    "train_good.shape"
   ]
  },
  {
   "cell_type": "code",
   "execution_count": 8,
   "id": "ee26deda",
   "metadata": {
    "execution": {
     "iopub.execute_input": "2023-07-12T19:24:34.603232Z",
     "iopub.status.busy": "2023-07-12T19:24:34.602401Z",
     "iopub.status.idle": "2023-07-12T19:24:34.613087Z",
     "shell.execute_reply": "2023-07-12T19:24:34.612193Z"
    },
    "papermill": {
     "duration": 0.024244,
     "end_time": "2023-07-12T19:24:34.615557",
     "exception": false,
     "start_time": "2023-07-12T19:24:34.591313",
     "status": "completed"
    },
    "tags": []
   },
   "outputs": [],
   "source": [
    "predictor_columns = [n for n in train.columns if n != 'Class' and n != 'Id']\n",
    "x= train[predictor_columns]\n",
    "y = train['Class']"
   ]
  },
  {
   "cell_type": "code",
   "execution_count": 9,
   "id": "e00195e7",
   "metadata": {
    "execution": {
     "iopub.execute_input": "2023-07-12T19:24:34.637105Z",
     "iopub.status.busy": "2023-07-12T19:24:34.635795Z",
     "iopub.status.idle": "2023-07-12T19:24:34.641988Z",
     "shell.execute_reply": "2023-07-12T19:24:34.641073Z"
    },
    "papermill": {
     "duration": 0.019528,
     "end_time": "2023-07-12T19:24:34.644569",
     "exception": false,
     "start_time": "2023-07-12T19:24:34.625041",
     "status": "completed"
    },
    "tags": []
   },
   "outputs": [],
   "source": [
    "from sklearn.model_selection import KFold as KF, GridSearchCV\n",
    "cv_outer = KF(n_splits = 10, shuffle=True, random_state=42)\n",
    "cv_inner = KF(n_splits = 5, shuffle=True, random_state=42)"
   ]
  },
  {
   "cell_type": "code",
   "execution_count": 10,
   "id": "06ead5ed",
   "metadata": {
    "execution": {
     "iopub.execute_input": "2023-07-12T19:24:34.665129Z",
     "iopub.status.busy": "2023-07-12T19:24:34.664652Z",
     "iopub.status.idle": "2023-07-12T19:24:34.672620Z",
     "shell.execute_reply": "2023-07-12T19:24:34.671608Z"
    },
    "papermill": {
     "duration": 0.021118,
     "end_time": "2023-07-12T19:24:34.674834",
     "exception": false,
     "start_time": "2023-07-12T19:24:34.653716",
     "status": "completed"
    },
    "tags": []
   },
   "outputs": [],
   "source": [
    "def balanced_log_loss(y_true, y_pred):\n",
    "\n",
    "    N_0 = np.sum(1 - y_true)\n",
    "    N_1 = np.sum(y_true)\n",
    "  \n",
    "    w_0 = 1 / N_0\n",
    "    w_1 = 1 / N_1\n",
    "\n",
    "    p_1 = np.clip(y_pred, 1e-15, 1 - 1e-15)\n",
    "    p_0 = 1 - p_1\n",
    " \n",
    "    log_loss_0 = -np.sum((1 - y_true) * np.log(p_0))\n",
    "    log_loss_1 = -np.sum(y_true * np.log(p_1))\n",
    "\n",
    "    balanced_log_loss = 2*(w_0 * log_loss_0 + w_1 * log_loss_1) / (w_0 + w_1)\n",
    "\n",
    "    return balanced_log_loss/(N_0+N_1)"
   ]
  },
  {
   "cell_type": "code",
   "execution_count": 11,
   "id": "b59cf99f",
   "metadata": {
    "execution": {
     "iopub.execute_input": "2023-07-12T19:24:34.695956Z",
     "iopub.status.busy": "2023-07-12T19:24:34.694925Z",
     "iopub.status.idle": "2023-07-12T19:24:34.708370Z",
     "shell.execute_reply": "2023-07-12T19:24:34.707405Z"
    },
    "papermill": {
     "duration": 0.026824,
     "end_time": "2023-07-12T19:24:34.710958",
     "exception": false,
     "start_time": "2023-07-12T19:24:34.684134",
     "status": "completed"
    },
    "tags": []
   },
   "outputs": [],
   "source": [
    "class Ensemble():\n",
    "    def __init__(self):\n",
    "        self.imputer = SimpleImputer(missing_values=np.nan, strategy='median')\n",
    "        self.classifiers =[xgboost.XGBClassifier(n_estimators=100,max_depth=3,learning_rate=0.2,subsample=0.9,colsample_bytree=0.85),\n",
    "                           xgboost.XGBClassifier(),\n",
    "                           TabPFNClassifier(N_ensemble_configurations=128),\n",
    "                           TabPFNClassifier(N_ensemble_configurations=48)]\n",
    "    \n",
    "    def fit(self,X,y):\n",
    "        y = y.values\n",
    "        unique_classes, y = np.unique(y, return_inverse=True)\n",
    "        self.classes_ = unique_classes\n",
    "        first_category = X.EJ.unique()[0]\n",
    "        X.EJ = X.EJ.eq(first_category).astype('int')\n",
    "        X = self.imputer.fit_transform(X)\n",
    "\n",
    "        for classifier in self.classifiers:\n",
    "            if classifier==self.classifiers[2] or classifier==self.classifiers[3]:\n",
    "                classifier.fit(X,y,overwrite_warning =True)\n",
    "            else :\n",
    "                classifier.fit(X, y)\n",
    "     \n",
    "    def predict_proba(self, x):\n",
    "        x = self.imputer.transform(x)\n",
    "        probabilities = np.stack([classifier.predict_proba(x) for classifier in self.classifiers])\n",
    "        averaged_probabilities = np.mean(probabilities, axis=0)\n",
    "        class_0_est_instances = averaged_probabilities[:, 0].sum()\n",
    "        others_est_instances = averaged_probabilities[:, 1:].sum()\n",
    "        # Weighted probabilities based on class imbalance\n",
    "        new_probabilities = averaged_probabilities * np.array([[1/(class_0_est_instances if i==0 else others_est_instances) for i in range(averaged_probabilities.shape[1])]])\n",
    "        return new_probabilities / np.sum(new_probabilities, axis=1, keepdims=1) "
   ]
  },
  {
   "cell_type": "code",
   "execution_count": 12,
   "id": "51c86ad5",
   "metadata": {
    "execution": {
     "iopub.execute_input": "2023-07-12T19:24:34.731458Z",
     "iopub.status.busy": "2023-07-12T19:24:34.730721Z",
     "iopub.status.idle": "2023-07-12T19:24:34.842089Z",
     "shell.execute_reply": "2023-07-12T19:24:34.840696Z"
    },
    "papermill": {
     "duration": 0.12499,
     "end_time": "2023-07-12T19:24:34.845021",
     "exception": false,
     "start_time": "2023-07-12T19:24:34.720031",
     "status": "completed"
    },
    "tags": []
   },
   "outputs": [],
   "source": [
    "from tqdm.notebook import tqdm"
   ]
  },
  {
   "cell_type": "code",
   "execution_count": 13,
   "id": "47380848",
   "metadata": {
    "execution": {
     "iopub.execute_input": "2023-07-12T19:24:34.865514Z",
     "iopub.status.busy": "2023-07-12T19:24:34.865022Z",
     "iopub.status.idle": "2023-07-12T19:24:34.878098Z",
     "shell.execute_reply": "2023-07-12T19:24:34.877077Z"
    },
    "papermill": {
     "duration": 0.026567,
     "end_time": "2023-07-12T19:24:34.880618",
     "exception": false,
     "start_time": "2023-07-12T19:24:34.854051",
     "status": "completed"
    },
    "tags": []
   },
   "outputs": [],
   "source": [
    "def training(model, x,y,y_meta):\n",
    "    outer_results = list()\n",
    "    best_loss = np.inf\n",
    "    split = 0\n",
    "    splits = 5\n",
    "    for train_idx,val_idx in tqdm(cv_inner.split(x), total = splits):\n",
    "        split+=1\n",
    "        x_train, x_val = x.iloc[train_idx],x.iloc[val_idx]\n",
    "        y_train, y_val = y_meta.iloc[train_idx], y.iloc[val_idx]\n",
    "                \n",
    "        model.fit(x_train, y_train)\n",
    "        y_pred = model.predict_proba(x_val)\n",
    "        probabilities = np.concatenate((y_pred[:,:1], np.sum(y_pred[:,1:], 1, keepdims=True)), axis=1)\n",
    "        p0 = probabilities[:,:1]\n",
    "        p0[p0 > 0.86] = 1\n",
    "        p0[p0 < 0.14] = 0\n",
    "        y_p = np.empty((y_pred.shape[0],))\n",
    "        for i in range(y_pred.shape[0]):\n",
    "            if p0[i]>=0.5:\n",
    "                y_p[i]= False\n",
    "            else :\n",
    "                y_p[i]=True\n",
    "        y_p = y_p.astype(int)\n",
    "        loss = balanced_log_loss(y_val,y_p)\n",
    "\n",
    "        if loss<best_loss:\n",
    "            best_model = model\n",
    "            best_loss = loss\n",
    "            print('best_model_saved')\n",
    "        outer_results.append(loss)\n",
    "        print('>val_loss=%.5f, split = %.1f' % (loss,split))\n",
    "    print('LOSS: %.5f' % (np.mean(outer_results)))\n",
    "    return best_model\n",
    "    "
   ]
  },
  {
   "cell_type": "code",
   "execution_count": 14,
   "id": "3f2912f3",
   "metadata": {
    "execution": {
     "iopub.execute_input": "2023-07-12T19:24:34.901668Z",
     "iopub.status.busy": "2023-07-12T19:24:34.900833Z",
     "iopub.status.idle": "2023-07-12T19:24:34.924687Z",
     "shell.execute_reply": "2023-07-12T19:24:34.923449Z"
    },
    "papermill": {
     "duration": 0.03739,
     "end_time": "2023-07-12T19:24:34.927417",
     "exception": false,
     "start_time": "2023-07-12T19:24:34.890027",
     "status": "completed"
    },
    "tags": []
   },
   "outputs": [],
   "source": [
    "from datetime import datetime\n",
    "times = greeks.Epsilon.copy()\n",
    "times[greeks.Epsilon != 'Unknown'] = greeks.Epsilon[greeks.Epsilon != 'Unknown'].map(lambda x: datetime.strptime(x,'%m/%d/%Y').toordinal())\n",
    "times[greeks.Epsilon == 'Unknown'] = np.nan"
   ]
  },
  {
   "cell_type": "code",
   "execution_count": 15,
   "id": "561bb1fb",
   "metadata": {
    "execution": {
     "iopub.execute_input": "2023-07-12T19:24:34.947747Z",
     "iopub.status.busy": "2023-07-12T19:24:34.946929Z",
     "iopub.status.idle": "2023-07-12T19:24:34.961721Z",
     "shell.execute_reply": "2023-07-12T19:24:34.960677Z"
    },
    "papermill": {
     "duration": 0.027766,
     "end_time": "2023-07-12T19:24:34.964272",
     "exception": false,
     "start_time": "2023-07-12T19:24:34.936506",
     "status": "completed"
    },
    "tags": []
   },
   "outputs": [],
   "source": [
    "train_pred_and_time = pd.concat((train, times), axis=1)\n",
    "test_predictors = test[predictor_columns]\n",
    "first_category = test_predictors.EJ.unique()[0]\n",
    "test_predictors.EJ = test_predictors.EJ.eq(first_category).astype('int')\n",
    "test_pred_and_time = np.concatenate((test_predictors, np.zeros((len(test_predictors), 1)) + train_pred_and_time.Epsilon.max() + 1), axis=1)"
   ]
  },
  {
   "cell_type": "code",
   "execution_count": 16,
   "id": "82d7df1e",
   "metadata": {
    "execution": {
     "iopub.execute_input": "2023-07-12T19:24:34.985346Z",
     "iopub.status.busy": "2023-07-12T19:24:34.984051Z",
     "iopub.status.idle": "2023-07-12T19:24:35.030078Z",
     "shell.execute_reply": "2023-07-12T19:24:35.028658Z"
    },
    "papermill": {
     "duration": 0.059193,
     "end_time": "2023-07-12T19:24:35.032728",
     "exception": false,
     "start_time": "2023-07-12T19:24:34.973535",
     "status": "completed"
    },
    "tags": []
   },
   "outputs": [
    {
     "name": "stdout",
     "output_type": "stream",
     "text": [
      "Original dataset shape\n",
      "A    509\n",
      "B     61\n",
      "G     29\n",
      "D     18\n",
      "Name: Alpha, dtype: int64\n",
      "Resample dataset shape\n",
      "B    509\n",
      "A    509\n",
      "D    509\n",
      "G    509\n",
      "Name: Alpha, dtype: int64\n"
     ]
    }
   ],
   "source": [
    "ros = RandomOverSampler(random_state=42)\n",
    "\n",
    "train_ros, y_ros = ros.fit_resample(train_pred_and_time, greeks.Alpha)\n",
    "print('Original dataset shape')\n",
    "print(greeks.Alpha.value_counts())\n",
    "print('Resample dataset shape')\n",
    "print( y_ros.value_counts())"
   ]
  },
  {
   "cell_type": "code",
   "execution_count": 17,
   "id": "c1733dab",
   "metadata": {
    "execution": {
     "iopub.execute_input": "2023-07-12T19:24:35.053316Z",
     "iopub.status.busy": "2023-07-12T19:24:35.052818Z",
     "iopub.status.idle": "2023-07-12T19:24:35.062552Z",
     "shell.execute_reply": "2023-07-12T19:24:35.061325Z"
    },
    "papermill": {
     "duration": 0.022865,
     "end_time": "2023-07-12T19:24:35.065091",
     "exception": false,
     "start_time": "2023-07-12T19:24:35.042226",
     "status": "completed"
    },
    "tags": []
   },
   "outputs": [],
   "source": [
    "x_ros = train_ros.drop(['Class', 'Id'],axis=1)\n",
    "y_ = train_ros.Class"
   ]
  },
  {
   "cell_type": "code",
   "execution_count": 18,
   "id": "3e45be67",
   "metadata": {
    "execution": {
     "iopub.execute_input": "2023-07-12T19:24:35.086047Z",
     "iopub.status.busy": "2023-07-12T19:24:35.085192Z",
     "iopub.status.idle": "2023-07-12T19:24:36.290701Z",
     "shell.execute_reply": "2023-07-12T19:24:36.289324Z"
    },
    "papermill": {
     "duration": 1.218875,
     "end_time": "2023-07-12T19:24:36.293370",
     "exception": false,
     "start_time": "2023-07-12T19:24:35.074495",
     "status": "completed"
    },
    "tags": []
   },
   "outputs": [
    {
     "name": "stdout",
     "output_type": "stream",
     "text": [
      "Loading model that can be used for inference only\n",
      "Using a Transformer with 25.82 M parameters\n",
      "Loading model that can be used for inference only\n",
      "Using a Transformer with 25.82 M parameters\n"
     ]
    }
   ],
   "source": [
    "yt = Ensemble()"
   ]
  },
  {
   "cell_type": "code",
   "execution_count": 19,
   "id": "8dfddff2",
   "metadata": {
    "execution": {
     "iopub.execute_input": "2023-07-12T19:24:36.315546Z",
     "iopub.status.busy": "2023-07-12T19:24:36.314611Z",
     "iopub.status.idle": "2023-07-12T20:12:05.784813Z",
     "shell.execute_reply": "2023-07-12T20:12:05.783122Z"
    },
    "papermill": {
     "duration": 2849.494541,
     "end_time": "2023-07-12T20:12:05.798406",
     "exception": false,
     "start_time": "2023-07-12T19:24:36.303865",
     "status": "completed"
    },
    "tags": []
   },
   "outputs": [
    {
     "data": {
      "application/vnd.jupyter.widget-view+json": {
       "model_id": "3dca85c8ef9e406f88db0b7d6e2c2660",
       "version_major": 2,
       "version_minor": 0
      },
      "text/plain": [
       "  0%|          | 0/5 [00:00<?, ?it/s]"
      ]
     },
     "metadata": {},
     "output_type": "display_data"
    },
    {
     "name": "stdout",
     "output_type": "stream",
     "text": [
      "best_model_saved\n",
      ">val_loss=0.12283, split = 1.0\n"
     ]
    },
    {
     "name": "stderr",
     "output_type": "stream",
     "text": [
      "/tmp/ipykernel_20/772101332.py:14: SettingWithCopyWarning: \n",
      "A value is trying to be set on a copy of a slice from a DataFrame.\n",
      "Try using .loc[row_indexer,col_indexer] = value instead\n",
      "\n",
      "See the caveats in the documentation: https://pandas.pydata.org/pandas-docs/stable/user_guide/indexing.html#returning-a-view-versus-a-copy\n",
      "  X.EJ = X.EJ.eq(first_category).astype('int')\n"
     ]
    },
    {
     "name": "stdout",
     "output_type": "stream",
     "text": [
      "best_model_saved\n",
      ">val_loss=0.00000, split = 2.0\n"
     ]
    },
    {
     "name": "stderr",
     "output_type": "stream",
     "text": [
      "/tmp/ipykernel_20/772101332.py:14: SettingWithCopyWarning: \n",
      "A value is trying to be set on a copy of a slice from a DataFrame.\n",
      "Try using .loc[row_indexer,col_indexer] = value instead\n",
      "\n",
      "See the caveats in the documentation: https://pandas.pydata.org/pandas-docs/stable/user_guide/indexing.html#returning-a-view-versus-a-copy\n",
      "  X.EJ = X.EJ.eq(first_category).astype('int')\n"
     ]
    },
    {
     "name": "stdout",
     "output_type": "stream",
     "text": [
      ">val_loss=0.00000, split = 3.0\n"
     ]
    },
    {
     "name": "stderr",
     "output_type": "stream",
     "text": [
      "/tmp/ipykernel_20/772101332.py:14: SettingWithCopyWarning: \n",
      "A value is trying to be set on a copy of a slice from a DataFrame.\n",
      "Try using .loc[row_indexer,col_indexer] = value instead\n",
      "\n",
      "See the caveats in the documentation: https://pandas.pydata.org/pandas-docs/stable/user_guide/indexing.html#returning-a-view-versus-a-copy\n",
      "  X.EJ = X.EJ.eq(first_category).astype('int')\n"
     ]
    },
    {
     "name": "stdout",
     "output_type": "stream",
     "text": [
      ">val_loss=0.13220, split = 4.0\n"
     ]
    },
    {
     "name": "stderr",
     "output_type": "stream",
     "text": [
      "/tmp/ipykernel_20/772101332.py:14: SettingWithCopyWarning: \n",
      "A value is trying to be set on a copy of a slice from a DataFrame.\n",
      "Try using .loc[row_indexer,col_indexer] = value instead\n",
      "\n",
      "See the caveats in the documentation: https://pandas.pydata.org/pandas-docs/stable/user_guide/indexing.html#returning-a-view-versus-a-copy\n",
      "  X.EJ = X.EJ.eq(first_category).astype('int')\n"
     ]
    },
    {
     "name": "stdout",
     "output_type": "stream",
     "text": [
      ">val_loss=0.13386, split = 5.0\n",
      "LOSS: 0.07778\n"
     ]
    }
   ],
   "source": [
    "m = training(yt,x_ros,y_,y_ros)"
   ]
  },
  {
   "cell_type": "code",
   "execution_count": 20,
   "id": "72b80823",
   "metadata": {
    "execution": {
     "iopub.execute_input": "2023-07-12T20:12:05.823783Z",
     "iopub.status.busy": "2023-07-12T20:12:05.823310Z",
     "iopub.status.idle": "2023-07-12T20:12:05.835288Z",
     "shell.execute_reply": "2023-07-12T20:12:05.834203Z"
    },
    "papermill": {
     "duration": 0.028478,
     "end_time": "2023-07-12T20:12:05.837828",
     "exception": false,
     "start_time": "2023-07-12T20:12:05.809350",
     "status": "completed"
    },
    "tags": []
   },
   "outputs": [
    {
     "data": {
      "text/plain": [
       "1    0.75\n",
       "0    0.25\n",
       "Name: Class, dtype: float64"
      ]
     },
     "execution_count": 20,
     "metadata": {},
     "output_type": "execute_result"
    }
   ],
   "source": [
    "y_.value_counts()/y_.shape[0]"
   ]
  },
  {
   "cell_type": "code",
   "execution_count": 21,
   "id": "9617f192",
   "metadata": {
    "execution": {
     "iopub.execute_input": "2023-07-12T20:12:05.861895Z",
     "iopub.status.busy": "2023-07-12T20:12:05.861472Z",
     "iopub.status.idle": "2023-07-12T20:19:57.190611Z",
     "shell.execute_reply": "2023-07-12T20:19:57.189194Z"
    },
    "papermill": {
     "duration": 471.344764,
     "end_time": "2023-07-12T20:19:57.193683",
     "exception": false,
     "start_time": "2023-07-12T20:12:05.848919",
     "status": "completed"
    },
    "tags": []
   },
   "outputs": [
    {
     "name": "stderr",
     "output_type": "stream",
     "text": [
      "/opt/conda/lib/python3.10/site-packages/sklearn/base.py:439: UserWarning: X does not have valid feature names, but SimpleImputer was fitted with feature names\n",
      "  warnings.warn(\n"
     ]
    }
   ],
   "source": [
    "y_pred = m.predict_proba(test_pred_and_time)\n",
    "probabilities = np.concatenate((y_pred[:,:1], np.sum(y_pred[:,1:], 1, keepdims=True)), axis=1)\n",
    "p0 = probabilities[:,:1]\n",
    "p0[p0 > 0.59] = 1 \n",
    "p0[p0 < 0.28] = 0"
   ]
  },
  {
   "cell_type": "code",
   "execution_count": 22,
   "id": "0890a443",
   "metadata": {
    "execution": {
     "iopub.execute_input": "2023-07-12T20:19:57.218169Z",
     "iopub.status.busy": "2023-07-12T20:19:57.217695Z",
     "iopub.status.idle": "2023-07-12T20:19:57.231703Z",
     "shell.execute_reply": "2023-07-12T20:19:57.230394Z"
    },
    "papermill": {
     "duration": 0.029994,
     "end_time": "2023-07-12T20:19:57.235028",
     "exception": false,
     "start_time": "2023-07-12T20:19:57.205034",
     "status": "completed"
    },
    "tags": []
   },
   "outputs": [],
   "source": [
    "submission = pd.DataFrame(test[\"Id\"], columns=[\"Id\"])\n",
    "submission[\"class_0\"] = p0\n",
    "submission[\"class_1\"] = 1 - p0\n",
    "submission.to_csv('submission.csv', index=False)"
   ]
  },
  {
   "cell_type": "code",
   "execution_count": 23,
   "id": "3a3bd5f2",
   "metadata": {
    "execution": {
     "iopub.execute_input": "2023-07-12T20:19:57.259935Z",
     "iopub.status.busy": "2023-07-12T20:19:57.259458Z",
     "iopub.status.idle": "2023-07-12T20:19:57.281752Z",
     "shell.execute_reply": "2023-07-12T20:19:57.280562Z"
    },
    "papermill": {
     "duration": 0.037513,
     "end_time": "2023-07-12T20:19:57.284337",
     "exception": false,
     "start_time": "2023-07-12T20:19:57.246824",
     "status": "completed"
    },
    "tags": []
   },
   "outputs": [
    {
     "data": {
      "text/html": [
       "<div>\n",
       "<style scoped>\n",
       "    .dataframe tbody tr th:only-of-type {\n",
       "        vertical-align: middle;\n",
       "    }\n",
       "\n",
       "    .dataframe tbody tr th {\n",
       "        vertical-align: top;\n",
       "    }\n",
       "\n",
       "    .dataframe thead th {\n",
       "        text-align: right;\n",
       "    }\n",
       "</style>\n",
       "<table border=\"1\" class=\"dataframe\">\n",
       "  <thead>\n",
       "    <tr style=\"text-align: right;\">\n",
       "      <th></th>\n",
       "      <th>Id</th>\n",
       "      <th>class_0</th>\n",
       "      <th>class_1</th>\n",
       "    </tr>\n",
       "  </thead>\n",
       "  <tbody>\n",
       "    <tr>\n",
       "      <th>0</th>\n",
       "      <td>00eed32682bb</td>\n",
       "      <td>0.5</td>\n",
       "      <td>0.5</td>\n",
       "    </tr>\n",
       "    <tr>\n",
       "      <th>1</th>\n",
       "      <td>010ebe33f668</td>\n",
       "      <td>0.5</td>\n",
       "      <td>0.5</td>\n",
       "    </tr>\n",
       "    <tr>\n",
       "      <th>2</th>\n",
       "      <td>02fa521e1838</td>\n",
       "      <td>0.5</td>\n",
       "      <td>0.5</td>\n",
       "    </tr>\n",
       "    <tr>\n",
       "      <th>3</th>\n",
       "      <td>040e15f562a2</td>\n",
       "      <td>0.5</td>\n",
       "      <td>0.5</td>\n",
       "    </tr>\n",
       "    <tr>\n",
       "      <th>4</th>\n",
       "      <td>046e85c7cc7f</td>\n",
       "      <td>0.5</td>\n",
       "      <td>0.5</td>\n",
       "    </tr>\n",
       "  </tbody>\n",
       "</table>\n",
       "</div>"
      ],
      "text/plain": [
       "             Id  class_0  class_1\n",
       "0  00eed32682bb      0.5      0.5\n",
       "1  010ebe33f668      0.5      0.5\n",
       "2  02fa521e1838      0.5      0.5\n",
       "3  040e15f562a2      0.5      0.5\n",
       "4  046e85c7cc7f      0.5      0.5"
      ]
     },
     "execution_count": 23,
     "metadata": {},
     "output_type": "execute_result"
    }
   ],
   "source": [
    "submission_df = pd.read_csv('submission.csv')\n",
    "submission_df"
   ]
  },
  {
   "cell_type": "code",
   "execution_count": null,
   "id": "74d31521",
   "metadata": {
    "papermill": {
     "duration": 0.011065,
     "end_time": "2023-07-12T20:19:57.306902",
     "exception": false,
     "start_time": "2023-07-12T20:19:57.295837",
     "status": "completed"
    },
    "tags": []
   },
   "outputs": [],
   "source": []
  }
 ],
 "metadata": {
  "kernelspec": {
   "display_name": "Python 3",
   "language": "python",
   "name": "python3"
  },
  "language_info": {
   "codemirror_mode": {
    "name": "ipython",
    "version": 3
   },
   "file_extension": ".py",
   "mimetype": "text/x-python",
   "name": "python",
   "nbconvert_exporter": "python",
   "pygments_lexer": "ipython3",
   "version": "3.10.12"
  },
  "papermill": {
   "default_parameters": {},
   "duration": 3367.902273,
   "end_time": "2023-07-12T20:20:00.297876",
   "environment_variables": {},
   "exception": null,
   "input_path": "__notebook__.ipynb",
   "output_path": "__notebook__.ipynb",
   "parameters": {},
   "start_time": "2023-07-12T19:23:52.395603",
   "version": "2.4.0"
  },
  "widgets": {
   "application/vnd.jupyter.widget-state+json": {
    "state": {
     "13762ed552b9412b9780ce98dda00642": {
      "model_module": "@jupyter-widgets/controls",
      "model_module_version": "1.5.0",
      "model_name": "DescriptionStyleModel",
      "state": {
       "_model_module": "@jupyter-widgets/controls",
       "_model_module_version": "1.5.0",
       "_model_name": "DescriptionStyleModel",
       "_view_count": null,
       "_view_module": "@jupyter-widgets/base",
       "_view_module_version": "1.2.0",
       "_view_name": "StyleView",
       "description_width": ""
      }
     },
     "289dff20ab024b95b0c7a85fb8df5a5f": {
      "model_module": "@jupyter-widgets/controls",
      "model_module_version": "1.5.0",
      "model_name": "DescriptionStyleModel",
      "state": {
       "_model_module": "@jupyter-widgets/controls",
       "_model_module_version": "1.5.0",
       "_model_name": "DescriptionStyleModel",
       "_view_count": null,
       "_view_module": "@jupyter-widgets/base",
       "_view_module_version": "1.2.0",
       "_view_name": "StyleView",
       "description_width": ""
      }
     },
     "3dca85c8ef9e406f88db0b7d6e2c2660": {
      "model_module": "@jupyter-widgets/controls",
      "model_module_version": "1.5.0",
      "model_name": "HBoxModel",
      "state": {
       "_dom_classes": [],
       "_model_module": "@jupyter-widgets/controls",
       "_model_module_version": "1.5.0",
       "_model_name": "HBoxModel",
       "_view_count": null,
       "_view_module": "@jupyter-widgets/controls",
       "_view_module_version": "1.5.0",
       "_view_name": "HBoxView",
       "box_style": "",
       "children": [
        "IPY_MODEL_c149a3ec3cac4604960b0f7abada037c",
        "IPY_MODEL_dae60eb9b79b419090f1a8b2187f1099",
        "IPY_MODEL_c9cd856d7429487fa8c1536816977cbd"
       ],
       "layout": "IPY_MODEL_eefa8bdd20b74894b3fbac573a3ef0bf"
      }
     },
     "4284b6c3f6cb4b41a61da96e3c33648a": {
      "model_module": "@jupyter-widgets/base",
      "model_module_version": "1.2.0",
      "model_name": "LayoutModel",
      "state": {
       "_model_module": "@jupyter-widgets/base",
       "_model_module_version": "1.2.0",
       "_model_name": "LayoutModel",
       "_view_count": null,
       "_view_module": "@jupyter-widgets/base",
       "_view_module_version": "1.2.0",
       "_view_name": "LayoutView",
       "align_content": null,
       "align_items": null,
       "align_self": null,
       "border": null,
       "bottom": null,
       "display": null,
       "flex": null,
       "flex_flow": null,
       "grid_area": null,
       "grid_auto_columns": null,
       "grid_auto_flow": null,
       "grid_auto_rows": null,
       "grid_column": null,
       "grid_gap": null,
       "grid_row": null,
       "grid_template_areas": null,
       "grid_template_columns": null,
       "grid_template_rows": null,
       "height": null,
       "justify_content": null,
       "justify_items": null,
       "left": null,
       "margin": null,
       "max_height": null,
       "max_width": null,
       "min_height": null,
       "min_width": null,
       "object_fit": null,
       "object_position": null,
       "order": null,
       "overflow": null,
       "overflow_x": null,
       "overflow_y": null,
       "padding": null,
       "right": null,
       "top": null,
       "visibility": null,
       "width": null
      }
     },
     "b823a9ac61e943bfb5ce2d820b27c576": {
      "model_module": "@jupyter-widgets/base",
      "model_module_version": "1.2.0",
      "model_name": "LayoutModel",
      "state": {
       "_model_module": "@jupyter-widgets/base",
       "_model_module_version": "1.2.0",
       "_model_name": "LayoutModel",
       "_view_count": null,
       "_view_module": "@jupyter-widgets/base",
       "_view_module_version": "1.2.0",
       "_view_name": "LayoutView",
       "align_content": null,
       "align_items": null,
       "align_self": null,
       "border": null,
       "bottom": null,
       "display": null,
       "flex": null,
       "flex_flow": null,
       "grid_area": null,
       "grid_auto_columns": null,
       "grid_auto_flow": null,
       "grid_auto_rows": null,
       "grid_column": null,
       "grid_gap": null,
       "grid_row": null,
       "grid_template_areas": null,
       "grid_template_columns": null,
       "grid_template_rows": null,
       "height": null,
       "justify_content": null,
       "justify_items": null,
       "left": null,
       "margin": null,
       "max_height": null,
       "max_width": null,
       "min_height": null,
       "min_width": null,
       "object_fit": null,
       "object_position": null,
       "order": null,
       "overflow": null,
       "overflow_x": null,
       "overflow_y": null,
       "padding": null,
       "right": null,
       "top": null,
       "visibility": null,
       "width": null
      }
     },
     "c02b352dee3a4d7aa37b0633e137d486": {
      "model_module": "@jupyter-widgets/controls",
      "model_module_version": "1.5.0",
      "model_name": "ProgressStyleModel",
      "state": {
       "_model_module": "@jupyter-widgets/controls",
       "_model_module_version": "1.5.0",
       "_model_name": "ProgressStyleModel",
       "_view_count": null,
       "_view_module": "@jupyter-widgets/base",
       "_view_module_version": "1.2.0",
       "_view_name": "StyleView",
       "bar_color": null,
       "description_width": ""
      }
     },
     "c149a3ec3cac4604960b0f7abada037c": {
      "model_module": "@jupyter-widgets/controls",
      "model_module_version": "1.5.0",
      "model_name": "HTMLModel",
      "state": {
       "_dom_classes": [],
       "_model_module": "@jupyter-widgets/controls",
       "_model_module_version": "1.5.0",
       "_model_name": "HTMLModel",
       "_view_count": null,
       "_view_module": "@jupyter-widgets/controls",
       "_view_module_version": "1.5.0",
       "_view_name": "HTMLView",
       "description": "",
       "description_tooltip": null,
       "layout": "IPY_MODEL_e208cd3ba62347169bde4d437bed4712",
       "placeholder": "​",
       "style": "IPY_MODEL_13762ed552b9412b9780ce98dda00642",
       "value": "100%"
      }
     },
     "c9cd856d7429487fa8c1536816977cbd": {
      "model_module": "@jupyter-widgets/controls",
      "model_module_version": "1.5.0",
      "model_name": "HTMLModel",
      "state": {
       "_dom_classes": [],
       "_model_module": "@jupyter-widgets/controls",
       "_model_module_version": "1.5.0",
       "_model_name": "HTMLModel",
       "_view_count": null,
       "_view_module": "@jupyter-widgets/controls",
       "_view_module_version": "1.5.0",
       "_view_name": "HTMLView",
       "description": "",
       "description_tooltip": null,
       "layout": "IPY_MODEL_b823a9ac61e943bfb5ce2d820b27c576",
       "placeholder": "​",
       "style": "IPY_MODEL_289dff20ab024b95b0c7a85fb8df5a5f",
       "value": " 5/5 [47:29&lt;00:00, 570.34s/it]"
      }
     },
     "dae60eb9b79b419090f1a8b2187f1099": {
      "model_module": "@jupyter-widgets/controls",
      "model_module_version": "1.5.0",
      "model_name": "FloatProgressModel",
      "state": {
       "_dom_classes": [],
       "_model_module": "@jupyter-widgets/controls",
       "_model_module_version": "1.5.0",
       "_model_name": "FloatProgressModel",
       "_view_count": null,
       "_view_module": "@jupyter-widgets/controls",
       "_view_module_version": "1.5.0",
       "_view_name": "ProgressView",
       "bar_style": "success",
       "description": "",
       "description_tooltip": null,
       "layout": "IPY_MODEL_4284b6c3f6cb4b41a61da96e3c33648a",
       "max": 5.0,
       "min": 0.0,
       "orientation": "horizontal",
       "style": "IPY_MODEL_c02b352dee3a4d7aa37b0633e137d486",
       "value": 5.0
      }
     },
     "e208cd3ba62347169bde4d437bed4712": {
      "model_module": "@jupyter-widgets/base",
      "model_module_version": "1.2.0",
      "model_name": "LayoutModel",
      "state": {
       "_model_module": "@jupyter-widgets/base",
       "_model_module_version": "1.2.0",
       "_model_name": "LayoutModel",
       "_view_count": null,
       "_view_module": "@jupyter-widgets/base",
       "_view_module_version": "1.2.0",
       "_view_name": "LayoutView",
       "align_content": null,
       "align_items": null,
       "align_self": null,
       "border": null,
       "bottom": null,
       "display": null,
       "flex": null,
       "flex_flow": null,
       "grid_area": null,
       "grid_auto_columns": null,
       "grid_auto_flow": null,
       "grid_auto_rows": null,
       "grid_column": null,
       "grid_gap": null,
       "grid_row": null,
       "grid_template_areas": null,
       "grid_template_columns": null,
       "grid_template_rows": null,
       "height": null,
       "justify_content": null,
       "justify_items": null,
       "left": null,
       "margin": null,
       "max_height": null,
       "max_width": null,
       "min_height": null,
       "min_width": null,
       "object_fit": null,
       "object_position": null,
       "order": null,
       "overflow": null,
       "overflow_x": null,
       "overflow_y": null,
       "padding": null,
       "right": null,
       "top": null,
       "visibility": null,
       "width": null
      }
     },
     "eefa8bdd20b74894b3fbac573a3ef0bf": {
      "model_module": "@jupyter-widgets/base",
      "model_module_version": "1.2.0",
      "model_name": "LayoutModel",
      "state": {
       "_model_module": "@jupyter-widgets/base",
       "_model_module_version": "1.2.0",
       "_model_name": "LayoutModel",
       "_view_count": null,
       "_view_module": "@jupyter-widgets/base",
       "_view_module_version": "1.2.0",
       "_view_name": "LayoutView",
       "align_content": null,
       "align_items": null,
       "align_self": null,
       "border": null,
       "bottom": null,
       "display": null,
       "flex": null,
       "flex_flow": null,
       "grid_area": null,
       "grid_auto_columns": null,
       "grid_auto_flow": null,
       "grid_auto_rows": null,
       "grid_column": null,
       "grid_gap": null,
       "grid_row": null,
       "grid_template_areas": null,
       "grid_template_columns": null,
       "grid_template_rows": null,
       "height": null,
       "justify_content": null,
       "justify_items": null,
       "left": null,
       "margin": null,
       "max_height": null,
       "max_width": null,
       "min_height": null,
       "min_width": null,
       "object_fit": null,
       "object_position": null,
       "order": null,
       "overflow": null,
       "overflow_x": null,
       "overflow_y": null,
       "padding": null,
       "right": null,
       "top": null,
       "visibility": null,
       "width": null
      }
     }
    },
    "version_major": 2,
    "version_minor": 0
   }
  }
 },
 "nbformat": 4,
 "nbformat_minor": 5
}
